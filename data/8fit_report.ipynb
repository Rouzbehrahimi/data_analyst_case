{
 "cells": [
  {
   "cell_type": "markdown",
   "metadata": {},
   "source": [
    "# 8fit Data analyst case solution"
   ]
  },
  {
   "cell_type": "markdown",
   "metadata": {},
   "source": [
    "I use this Jupyter Notebook for creating my final report and exploring the data."
   ]
  },
  {
   "cell_type": "code",
   "execution_count": 1,
   "metadata": {},
   "outputs": [],
   "source": [
    "import pandas as pd \n",
    "import numpy as np"
   ]
  },
  {
   "cell_type": "markdown",
   "metadata": {},
   "source": [
    "### Loading the Data"
   ]
  },
  {
   "cell_type": "code",
   "execution_count": 2,
   "metadata": {},
   "outputs": [],
   "source": [
    "subscriptions = pd.read_csv(\"subscriptions.csv\")\n",
    "spendings = pd.read_csv(\"spendings.csv\")"
   ]
  },
  {
   "cell_type": "markdown",
   "metadata": {},
   "source": [
    "### Merging subscription and spendings datasets"
   ]
  },
  {
   "cell_type": "code",
   "execution_count": 4,
   "metadata": {},
   "outputs": [],
   "source": [
    "merged_df = pd.merge(\n",
    "    subscriptions,\n",
    "    spendings,\n",
    "    how=\"left\",\n",
    "    left_on=[\n",
    "        \"signup_country_code\",\n",
    "        \"marketing_channel_id\",\n",
    "        \"signup_platform\",\n",
    "        \"subscription_date\",\n",
    "    ],\n",
    "    right_on=[\"country_code\", \"marketing_channel_id\", \"platform\", \"report_date\"],\n",
    ")\n",
    "df = merged_df.dropna()"
   ]
  },
  {
   "cell_type": "markdown",
   "metadata": {},
   "source": [
    "## Question 1.\n",
    "### Where to invest? ios or android?"
   ]
  },
  {
   "cell_type": "markdown",
   "metadata": {},
   "source": [
    "### Solution:\n",
    "One of the most important KPIs in marketing analysis is CAC,Cost of customer acquisition.\n",
    "Below Visualizations help us to have a more clear idea on both platforms' perfromance. "
   ]
  },
  {
   "cell_type": "markdown",
   "metadata": {},
   "source": [
    "<img src=\"Platform.png\">"
   ]
  },
  {
   "cell_type": "markdown",
   "metadata": {},
   "source": [
    "As it is seen above we have spent more in ios and consequently got more revenue from ios. \n",
    "##### In terms of CAC android is doing better. CAC for android is around 7% lower than ios.\n",
    "### Therefore, I suggest to invest more in android\n"
   ]
  },
  {
   "cell_type": "markdown",
   "metadata": {},
   "source": [
    "## Question 2. \n",
    "### Is there any specific marketing channels we should be aiming for to get better results? \n",
    "### I'm currently thinking that the channel with ID 4 looks promising. What are your thoughts? "
   ]
  },
  {
   "cell_type": "markdown",
   "metadata": {},
   "source": [
    "### Solution:\n",
    "As it is understood from the data, there are some paid and unpaid channels available. So I would answer to this question for paid and unpaid categories separately.\n",
    "I have also defined a new KPI,Marketing Spendings/Revenue, which could be an indicator of marketing ROI in each channel. The lowest the Marketing Spendings/Revenue, the better."
   ]
  },
  {
   "cell_type": "markdown",
   "metadata": {},
   "source": [
    "#### - Unpaid Channels:\n",
    "    Among unpaid channels, Channel with ID 1 is outperforming both paid and unpaid ones by far. In my opinion, it is the most successful one. And if our startegy is not to necessarily invest in paid channels, channel 1 would be the best to invest in.\n",
    "\n",
    "#### - Paid Channels:\n",
    "    It seems that Channel with ID 2 is the one doing better than other paid channels; as it has the highest revenue share and lowest CAC among paid channels.\n",
    "    Apart from channel 10, channel 2 has also the lowest Marketing_Spending/Revenue among other paid channels.\n",
    "    I would not choose channel 10 because of its low revenue share."
   ]
  },
  {
   "cell_type": "markdown",
   "metadata": {},
   "source": [
    "<img src=\"Channels.png\">"
   ]
  },
  {
   "cell_type": "markdown",
   "metadata": {},
   "source": [
    "## Question 3.\n",
    "#### Looking further into the data at hand it looks like UK (United Kingdom) would be a good investment. Do you agree? "
   ]
  },
  {
   "cell_type": "markdown",
   "metadata": {},
   "source": [
    "### Solution:\n",
    "\n",
    "Having aggregated the data on the countries level, I sorted them based on net_revenue, spendings, CAC respectively. "
   ]
  },
  {
   "cell_type": "code",
   "execution_count": 7,
   "metadata": {},
   "outputs": [
    {
     "data": {
      "text/html": [
       "<div>\n",
       "<style scoped>\n",
       "    .dataframe tbody tr th:only-of-type {\n",
       "        vertical-align: middle;\n",
       "    }\n",
       "\n",
       "    .dataframe tbody tr th {\n",
       "        vertical-align: top;\n",
       "    }\n",
       "\n",
       "    .dataframe thead th {\n",
       "        text-align: right;\n",
       "    }\n",
       "</style>\n",
       "<table border=\"1\" class=\"dataframe\">\n",
       "  <thead>\n",
       "    <tr style=\"text-align: right;\">\n",
       "      <th></th>\n",
       "      <th>spendings</th>\n",
       "      <th>net_revenue</th>\n",
       "      <th>subscription_count</th>\n",
       "      <th>CAC</th>\n",
       "      <th>MarketingCost/Revenue</th>\n",
       "    </tr>\n",
       "    <tr>\n",
       "      <th>signup_country_code</th>\n",
       "      <th></th>\n",
       "      <th></th>\n",
       "      <th></th>\n",
       "      <th></th>\n",
       "      <th></th>\n",
       "    </tr>\n",
       "  </thead>\n",
       "  <tbody>\n",
       "    <tr>\n",
       "      <th>US</th>\n",
       "      <td>1.101293e+06</td>\n",
       "      <td>474061.606983</td>\n",
       "      <td>38418</td>\n",
       "      <td>28.666061</td>\n",
       "      <td>2.323100</td>\n",
       "    </tr>\n",
       "    <tr>\n",
       "      <th>CA</th>\n",
       "      <td>2.176953e+05</td>\n",
       "      <td>91924.064864</td>\n",
       "      <td>7702</td>\n",
       "      <td>28.264778</td>\n",
       "      <td>2.368208</td>\n",
       "    </tr>\n",
       "    <tr>\n",
       "      <th>CH</th>\n",
       "      <td>1.070114e+05</td>\n",
       "      <td>69317.169287</td>\n",
       "      <td>3973</td>\n",
       "      <td>26.934656</td>\n",
       "      <td>1.543793</td>\n",
       "    </tr>\n",
       "    <tr>\n",
       "      <th>AU</th>\n",
       "      <td>1.104261e+05</td>\n",
       "      <td>64562.365066</td>\n",
       "      <td>4630</td>\n",
       "      <td>23.850130</td>\n",
       "      <td>1.710379</td>\n",
       "    </tr>\n",
       "    <tr>\n",
       "      <th>FR</th>\n",
       "      <td>7.299754e+04</td>\n",
       "      <td>56318.861900</td>\n",
       "      <td>4313</td>\n",
       "      <td>16.925003</td>\n",
       "      <td>1.296147</td>\n",
       "    </tr>\n",
       "    <tr>\n",
       "      <th>ES</th>\n",
       "      <td>1.172919e+05</td>\n",
       "      <td>52255.592894</td>\n",
       "      <td>5299</td>\n",
       "      <td>22.134715</td>\n",
       "      <td>2.244580</td>\n",
       "    </tr>\n",
       "    <tr>\n",
       "      <th>GB</th>\n",
       "      <td>6.887108e+04</td>\n",
       "      <td>43444.365635</td>\n",
       "      <td>4727</td>\n",
       "      <td>14.569723</td>\n",
       "      <td>1.585271</td>\n",
       "    </tr>\n",
       "    <tr>\n",
       "      <th>MX</th>\n",
       "      <td>8.220753e+04</td>\n",
       "      <td>41640.531544</td>\n",
       "      <td>4817</td>\n",
       "      <td>17.066126</td>\n",
       "      <td>1.974219</td>\n",
       "    </tr>\n",
       "    <tr>\n",
       "      <th>AR</th>\n",
       "      <td>3.425828e+04</td>\n",
       "      <td>37823.633723</td>\n",
       "      <td>2533</td>\n",
       "      <td>13.524785</td>\n",
       "      <td>0.905737</td>\n",
       "    </tr>\n",
       "    <tr>\n",
       "      <th>CL</th>\n",
       "      <td>3.057637e+04</td>\n",
       "      <td>30574.486799</td>\n",
       "      <td>1991</td>\n",
       "      <td>15.357293</td>\n",
       "      <td>1.000062</td>\n",
       "    </tr>\n",
       "    <tr>\n",
       "      <th>DE</th>\n",
       "      <td>4.432103e+04</td>\n",
       "      <td>28079.971732</td>\n",
       "      <td>2801</td>\n",
       "      <td>15.823288</td>\n",
       "      <td>1.578386</td>\n",
       "    </tr>\n",
       "    <tr>\n",
       "      <th>CO</th>\n",
       "      <td>1.813669e+04</td>\n",
       "      <td>18984.989593</td>\n",
       "      <td>1263</td>\n",
       "      <td>14.360008</td>\n",
       "      <td>0.955317</td>\n",
       "    </tr>\n",
       "    <tr>\n",
       "      <th>AE</th>\n",
       "      <td>1.874929e+04</td>\n",
       "      <td>16726.046946</td>\n",
       "      <td>1183</td>\n",
       "      <td>15.848935</td>\n",
       "      <td>1.120964</td>\n",
       "    </tr>\n",
       "    <tr>\n",
       "      <th>PE</th>\n",
       "      <td>1.204113e+04</td>\n",
       "      <td>11084.823868</td>\n",
       "      <td>1117</td>\n",
       "      <td>10.779884</td>\n",
       "      <td>1.086272</td>\n",
       "    </tr>\n",
       "    <tr>\n",
       "      <th>CR</th>\n",
       "      <td>8.829010e+03</td>\n",
       "      <td>9286.575716</td>\n",
       "      <td>742</td>\n",
       "      <td>11.898935</td>\n",
       "      <td>0.950728</td>\n",
       "    </tr>\n",
       "  </tbody>\n",
       "</table>\n",
       "</div>"
      ],
      "text/plain": [
       "                        spendings    net_revenue  subscription_count  \\\n",
       "signup_country_code                                                    \n",
       "US                   1.101293e+06  474061.606983               38418   \n",
       "CA                   2.176953e+05   91924.064864                7702   \n",
       "CH                   1.070114e+05   69317.169287                3973   \n",
       "AU                   1.104261e+05   64562.365066                4630   \n",
       "FR                   7.299754e+04   56318.861900                4313   \n",
       "ES                   1.172919e+05   52255.592894                5299   \n",
       "GB                   6.887108e+04   43444.365635                4727   \n",
       "MX                   8.220753e+04   41640.531544                4817   \n",
       "AR                   3.425828e+04   37823.633723                2533   \n",
       "CL                   3.057637e+04   30574.486799                1991   \n",
       "DE                   4.432103e+04   28079.971732                2801   \n",
       "CO                   1.813669e+04   18984.989593                1263   \n",
       "AE                   1.874929e+04   16726.046946                1183   \n",
       "PE                   1.204113e+04   11084.823868                1117   \n",
       "CR                   8.829010e+03    9286.575716                 742   \n",
       "\n",
       "                           CAC  MarketingCost/Revenue  \n",
       "signup_country_code                                    \n",
       "US                   28.666061               2.323100  \n",
       "CA                   28.264778               2.368208  \n",
       "CH                   26.934656               1.543793  \n",
       "AU                   23.850130               1.710379  \n",
       "FR                   16.925003               1.296147  \n",
       "ES                   22.134715               2.244580  \n",
       "GB                   14.569723               1.585271  \n",
       "MX                   17.066126               1.974219  \n",
       "AR                   13.524785               0.905737  \n",
       "CL                   15.357293               1.000062  \n",
       "DE                   15.823288               1.578386  \n",
       "CO                   14.360008               0.955317  \n",
       "AE                   15.848935               1.120964  \n",
       "PE                   10.779884               1.086272  \n",
       "CR                   11.898935               0.950728  "
      ]
     },
     "execution_count": 7,
     "metadata": {},
     "output_type": "execute_result"
    }
   ],
   "source": [
    "Countries=df.groupby('signup_country_code')['spendings','net_revenue','subscription_count'].sum()\n",
    "Countries['CAC']=Countries['spendings']/Countries['subscription_count']\n",
    "Countries['MarketingCost/Revenue']=Countries['spendings']/Countries['net_revenue']\n",
    "Countries.sort_values(['net_revenue','spendings','CAC'],ascending=False)[0:15]"
   ]
  },
  {
   "cell_type": "markdown",
   "metadata": {},
   "source": [
    "In my opinion among the countries with highest revenue share AR,Argentina, seems to be more intersting as it shows a low CAC and MarketingCost/Revenue, which means that it would be a profitable market with a high marketing ROI."
   ]
  },
  {
   "cell_type": "markdown",
   "metadata": {},
   "source": [
    "UK which is available as GB in this dataset seems also a nice choice but its indicators are still worse than AR.\n"
   ]
  },
  {
   "cell_type": "markdown",
   "metadata": {},
   "source": [
    "##### Overal, if we aim to invest in Europe UK would be a promising market, but globally AR outperforms it. Therefore, if 8fit does not have any strategic prefrences in order to grow first in EU, it should go for AR otherwise UK would be the best."
   ]
  },
  {
   "cell_type": "markdown",
   "metadata": {},
   "source": [
    "# SQL Question"
   ]
  },
  {
   "cell_type": "markdown",
   "metadata": {},
   "source": [
    "I did not use the docker setup, therefore; I loaded the two datasets into two tables, subscriptions and spendings, in my local postgresql and did the query."
   ]
  },
  {
   "cell_type": "markdown",
   "metadata": {},
   "source": [
    "### 1. How much did we spent per channel in December?"
   ]
  },
  {
   "cell_type": "code",
   "execution_count": null,
   "metadata": {},
   "outputs": [],
   "source": [
    "SELECT marketing_channel_id,SUM(spendings) AS total_spendings from spendings\n",
    "WHERE EXTRACT(MONTH FROM report_date)=12\n",
    "GROUP BY marketing_channel_id\n",
    "ORDER BY total_spendings DESC;"
   ]
  },
  {
   "cell_type": "markdown",
   "metadata": {},
   "source": [
    "<img src='Q1.PNG'>"
   ]
  },
  {
   "cell_type": "markdown",
   "metadata": {},
   "source": [
    "### 2. What is the average cost of acquisition for a subscription per country?"
   ]
  },
  {
   "cell_type": "code",
   "execution_count": null,
   "metadata": {},
   "outputs": [],
   "source": [
    "SELECT signup_country_code as country, SUM(spendings)/SUM(subscription_count) AS CAC\n",
    "FROM subscriptions S INNER JOIN spendings M ON\n",
    "S.signup_country_code=M.country_code \n",
    "AND S.marketing_channel_id=M.marketing_channel_id\n",
    "AND S.subscription_date=M.report_date \n",
    "GROUP BY signup_country_code \n",
    "ORDER BY CAC DESC;"
   ]
  },
  {
   "cell_type": "markdown",
   "metadata": {},
   "source": [
    "<img src='Q2.PNG'>"
   ]
  },
  {
   "cell_type": "markdown",
   "metadata": {},
   "source": [
    "### 3. What is our average revenue and spending per day of the week (Monday, Tuesday...)?\n"
   ]
  },
  {
   "cell_type": "code",
   "execution_count": null,
   "metadata": {},
   "outputs": [],
   "source": [
    "SELECT to_char(subscription_date,'Day') as DayOfWeek, AVG(net_revenue) as avg_revenue, AVG(spendings) as avg_spendings\n",
    "FROM subscriptions S INNER JOIN spendings M ON\n",
    "S.signup_country_code=M.country_code\n",
    "AND S.marketing_channel_id=M.marketing_channel_id\n",
    "AND S.subscription_date=M.report_date\n",
    "GROUP BY to_char(subscription_date,'Day');"
   ]
  },
  {
   "cell_type": "markdown",
   "metadata": {},
   "source": [
    "<img src='Q3.PNG'>"
   ]
  }
 ],
 "metadata": {
  "kernelspec": {
   "display_name": "Python 3",
   "language": "python",
   "name": "python3"
  },
  "language_info": {
   "codemirror_mode": {
    "name": "ipython",
    "version": 3
   },
   "file_extension": ".py",
   "mimetype": "text/x-python",
   "name": "python",
   "nbconvert_exporter": "python",
   "pygments_lexer": "ipython3",
   "version": "3.7.1"
  }
 },
 "nbformat": 4,
 "nbformat_minor": 2
}
